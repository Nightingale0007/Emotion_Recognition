{
 "cells": [
  {
   "cell_type": "code",
   "execution_count": 5,
   "metadata": {},
   "outputs": [],
   "source": [
    "# Import library\n",
    "import os\n",
    "import torch\n",
    "import torchvision.transforms as transforms\n",
    "import torch.nn as nn\n",
    "import torch.optim as optim\n",
    "from torchvision.datasets import ImageFolder\n",
    "from torch.utils.data import DataLoader"
   ]
  },
  {
   "cell_type": "code",
   "execution_count": 6,
   "metadata": {},
   "outputs": [],
   "source": [
    "#创建转换器\n",
    "train_transform = transforms.Compose([\n",
    "    transforms.Resize((90, 90)),\n",
    "    transforms.RandomHorizontalFlip(),\n",
    "    transforms.RandomRotation(10),\n",
    "    transforms.ColorJitter(brightness=0.2, contrast=0.2, saturation=0.2, hue=0.2),\n",
    "    transforms.ToTensor(),\n",
    "    transforms.Normalize((0.485, 0.456, 0.406), (0.229, 0.224, 0.225))\n",
    "    ])\n",
    "test_transfrom = transforms.Compose([\n",
    "    transforms.Resize((90, 90)),\n",
    "    transforms.ToTensor(),\n",
    "    transforms.Normalize((0.485, 0.456, 0.406), (0.229, 0.224, 0.225))\n",
    "    ])\n"
   ]
  },
  {
   "cell_type": "code",
   "execution_count": 7,
   "metadata": {},
   "outputs": [
    {
     "name": "stdout",
     "output_type": "stream",
     "text": [
      "49601\n",
      "{'Angry': 3422, 'Disgust': 3285, 'Fear': 1602, 'Happy': 24034, 'Neutral': 10908, 'Sad': 2875, 'Surprise': 3475}\n"
     ]
    }
   ],
   "source": [
    "#计算每个类别的图片数量\n",
    "train_path = 'D:\\Csci323\\Emotion-domestic\\Emotion-domestic\\Train'\n",
    "train_dataset = ImageFolder(root=train_path, transform=train_transform)\n",
    "classes_name = train_dataset.classes\n",
    "class_count = {}\n",
    "for i in classes_name:\n",
    "    class_path = os.path.join(train_path,i)\n",
    "    image_count = len(os.listdir(class_path))\n",
    "    class_count[i] = image_count\n",
    "print(len(train_dataset))\n",
    "print(class_count)"
   ]
  },
  {
   "cell_type": "code",
   "execution_count": 8,
   "metadata": {},
   "outputs": [],
   "source": [
    "from torch.utils.data.sampler import WeightedRandomSampler\n",
    "import numpy as np\n",
    "\n",
    "# 计算每个类别的权重\n",
    "class_sample_counts = [3422, 3285, 1602, 24034, 10908, 2875, 3475]\n",
    "weights = 1. / np.array(class_sample_counts)\n",
    "samples_weights = np.array([weights[label] for _, label in train_dataset.samples])\n",
    "\n",
    "\n",
    "# 创建采样器\n",
    "sampler = WeightedRandomSampler(weights=samples_weights, num_samples=len(samples_weights) * 2, replacement=True)\n",
    "\n",
    "# 使用采样器创建数据加载器\n",
    "train_loader = DataLoader(train_dataset, batch_size=32, sampler=sampler, num_workers=4)"
   ]
  },
  {
   "cell_type": "code",
   "execution_count": 9,
   "metadata": {},
   "outputs": [],
   "source": [
    "test_dataset = ImageFolder(root='D:\\Csci323\\Emotion-domestic\\Emotion-domestic\\Test', transform=test_transfrom)\n",
    "test_loader = DataLoader(test_dataset, batch_size=32, shuffle=False, num_workers=4)"
   ]
  },
  {
   "cell_type": "code",
   "execution_count": 10,
   "metadata": {},
   "outputs": [],
   "source": [
    "# Build CNN model\n",
    "class Net(nn.Module):\n",
    "    def __init__(self):\n",
    "        super(Net,self).__init__()\n",
    "        self.conv1 = nn.Conv2d(in_channels=3,out_channels=32,kernel_size=3) \n",
    "        self.activation1 = nn.ReLU()\n",
    "        self.pool = nn.MaxPool2d(kernel_size=2, stride=2)\n",
    "        self.conv2 = nn.Conv2d(in_channels=32, out_channels=64, kernel_size=3)\n",
    "        self.flatten = nn.Flatten()\n",
    "        self.fc1 = nn.Linear(in_features=28224, out_features=512)\n",
    "        self.fc2 = nn.Linear(512, 7)\n",
    "\n",
    "    # forward propagation\n",
    "    def forward(self,x):\n",
    "        x = self.conv1(x) \n",
    "        x = self.activation1(x)\n",
    "        x = self.pool(x)\n",
    "        x = self.conv2(x)\n",
    "        x = self.activation1(x)\n",
    "        x = self.pool(x)\n",
    "        x = self.flatten(x) \n",
    "        x = self.fc1(x)\n",
    "        x = self.activation1(x)\n",
    "        x = self.fc2(x)\n",
    "        return x "
   ]
  },
  {
   "cell_type": "code",
   "execution_count": 11,
   "metadata": {},
   "outputs": [
    {
     "name": "stdout",
     "output_type": "stream",
     "text": [
      "cuda\n"
     ]
    }
   ],
   "source": [
    "# 启用GPU\n",
    "device = torch.device(\"cuda\" if torch.cuda.is_available() else \"cpu\")\n",
    "print(device)"
   ]
  },
  {
   "cell_type": "code",
   "execution_count": 12,
   "metadata": {},
   "outputs": [],
   "source": [
    "#实例化模型\n",
    "net = Net()\n",
    "net = net.to(device)\n",
    "criterion = nn.CrossEntropyLoss()\n",
    "optimizer = optim.SGD(net.parameters(), lr=0.001, momentum=0.9)"
   ]
  },
  {
   "cell_type": "code",
   "execution_count": 13,
   "metadata": {},
   "outputs": [
    {
     "name": "stdout",
     "output_type": "stream",
     "text": [
      "Epoch 1 loss: 1.376\n",
      "Accuracy of the network on the test images: 65.26%\n",
      "Epoch 2 loss: 0.950\n",
      "Accuracy of the network on the test images: 71.44%\n",
      "Epoch 3 loss: 0.709\n",
      "Accuracy of the network on the test images: 78.14%\n",
      "Epoch 4 loss: 0.558\n",
      "Accuracy of the network on the test images: 78.64%\n",
      "Epoch 5 loss: 0.456\n",
      "Accuracy of the network on the test images: 82.76%\n",
      "Epoch 6 loss: 0.373\n",
      "Accuracy of the network on the test images: 82.06%\n",
      "Epoch 7 loss: 0.306\n",
      "Accuracy of the network on the test images: 83.22%\n",
      "Epoch 8 loss: 0.260\n",
      "Accuracy of the network on the test images: 84.98%\n",
      "Epoch 9 loss: 0.222\n",
      "Accuracy of the network on the test images: 86.52%\n",
      "Epoch 10 loss: 0.186\n",
      "Accuracy of the network on the test images: 85.84%\n",
      "Epoch 11 loss: 0.165\n",
      "Accuracy of the network on the test images: 86.24%\n",
      "Epoch 12 loss: 0.142\n",
      "Accuracy of the network on the test images: 86.42%\n",
      "Epoch 13 loss: 0.125\n",
      "Accuracy of the network on the test images: 86.54%\n",
      "Epoch 14 loss: 0.119\n",
      "Accuracy of the network on the test images: 85.64%\n",
      "Epoch 15 loss: 0.102\n",
      "Accuracy of the network on the test images: 87.38%\n",
      "Epoch 16 loss: 0.090\n",
      "Accuracy of the network on the test images: 85.88%\n",
      "Epoch 17 loss: 0.095\n",
      "Accuracy of the network on the test images: 86.72%\n",
      "Epoch 18 loss: 0.077\n",
      "Accuracy of the network on the test images: 86.56%\n",
      "Epoch 19 loss: 0.073\n",
      "Accuracy of the network on the test images: 86.54%\n",
      "Epoch 20 loss: 0.065\n",
      "Accuracy of the network on the test images: 87.56%\n",
      "Epoch 21 loss: 0.057\n",
      "Accuracy of the network on the test images: 87.08%\n",
      "Epoch 22 loss: 0.056\n",
      "Accuracy of the network on the test images: 87.54%\n",
      "Epoch 23 loss: 0.051\n",
      "Accuracy of the network on the test images: 87.18%\n",
      "Epoch 24 loss: 0.048\n",
      "Accuracy of the network on the test images: 87.16%\n",
      "Epoch 25 loss: 0.044\n",
      "Accuracy of the network on the test images: 87.22%\n",
      "Epoch 26 loss: 0.041\n",
      "Accuracy of the network on the test images: 87.58%\n",
      "Epoch 27 loss: 0.038\n",
      "Accuracy of the network on the test images: 87.22%\n",
      "Epoch 28 loss: 0.035\n",
      "Accuracy of the network on the test images: 87.58%\n",
      "Epoch 29 loss: 0.035\n",
      "Accuracy of the network on the test images: 87.40%\n",
      "Epoch 30 loss: 0.034\n",
      "Accuracy of the network on the test images: 88.16%\n",
      "Finished Training\n"
     ]
    }
   ],
   "source": [
    "# 训练模型\n",
    "for epoch in range(30):\n",
    "    running_loss = 0.0\n",
    "    for i, data in enumerate(train_loader, 0):\n",
    "        inputs, labels = data\n",
    "        inputs,labels = inputs.to(device),labels.to(device)\n",
    "        optimizer.zero_grad()\n",
    "        outputs = net(inputs)\n",
    "        loss = criterion(outputs, labels)\n",
    "        loss.backward()\n",
    "        optimizer.step()\n",
    "        running_loss += loss.item() \n",
    "    print(f'Epoch {epoch + 1} loss: {running_loss / 3100:.3f}')\n",
    "# 测试模型\n",
    "    correct = 0\n",
    "    total = 0\n",
    "    with torch.no_grad():\n",
    "        for data in test_loader:\n",
    "            images, labels = data\n",
    "            images,labels = images.to(device),labels.to(device)\n",
    "            outputs = net(images)\n",
    "            _, predicted = torch.max(outputs.data, 1)\n",
    "            total += labels.size(0)\n",
    "            correct += (predicted == labels).sum().item()\n",
    "\n",
    "    print(f'Accuracy of the network on the test images: {100 * correct / total:.2f}%')\n",
    "\n",
    "print('Finished Training')"
   ]
  },
  {
   "cell_type": "code",
   "execution_count": 14,
   "metadata": {},
   "outputs": [],
   "source": [
    "PATH = 'D:\\Csci323\\TT.pth'\n",
    "torch.save(net, PATH)"
   ]
  },
  {
   "cell_type": "code",
   "execution_count": 28,
   "metadata": {},
   "outputs": [
    {
     "name": "stdout",
     "output_type": "stream",
     "text": [
      "Fear\n"
     ]
    }
   ],
   "source": [
    "from PIL import Image\n",
    "path = 'D:\\Csci323\\Test3.jpg'\n",
    "def test(path):\n",
    "    classes_list = ['Angry','Disgust','Fear','Happy','Neutral','Neutral','Sad','Surprise']\n",
    "    device = torch.device(\"cuda\" if torch.cuda.is_available() else \"cpu\")\n",
    "    net = torch.load(PATH)\n",
    "    net = net.to(device)\n",
    "    image = Image.open(path)\n",
    "    image = test_transfrom(image)\n",
    "    image = image.unsqueeze(0)\n",
    "    image = image.to(device)\n",
    "    outputs = net(image)\n",
    "    _, predicted = torch.max(outputs.data, 1)\n",
    "    print(classes_list[predicted.item()])\n",
    "test(path)"
   ]
  }
 ],
 "metadata": {
  "kernelspec": {
   "display_name": "base",
   "language": "python",
   "name": "python3"
  },
  "language_info": {
   "codemirror_mode": {
    "name": "ipython",
    "version": 3
   },
   "file_extension": ".py",
   "mimetype": "text/x-python",
   "name": "python",
   "nbconvert_exporter": "python",
   "pygments_lexer": "ipython3",
   "version": "3.11.9"
  }
 },
 "nbformat": 4,
 "nbformat_minor": 2
}
